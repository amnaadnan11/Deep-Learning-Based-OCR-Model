{
  "nbformat": 4,
  "nbformat_minor": 0,
  "metadata": {
    "colab": {
      "provenance": [],
      "include_colab_link": true
    },
    "kernelspec": {
      "name": "python3",
      "display_name": "Python 3"
    },
    "language_info": {
      "name": "python"
    }
  },
  "cells": [
    {
      "cell_type": "markdown",
      "metadata": {
        "id": "view-in-github",
        "colab_type": "text"
      },
      "source": [
        "<a href=\"https://colab.research.google.com/github/amnaadnan11/Deep-Learning-Based-OCR-Model/blob/tasks/AI_Research_School_Project_7.ipynb\" target=\"_parent\"><img src=\"https://colab.research.google.com/assets/colab-badge.svg\" alt=\"Open In Colab\"/></a>"
      ]
    },
    {
      "cell_type": "markdown",
      "source": [
        "\n",
        "\n",
        "```\n",
        "# This is formatted as code\n",
        "```\n",
        "\n",
        "**Deep-Learning-Based-OCR-Model** \n",
        "\n",
        "Team Members: Farida Elogueil, Amna Adnan, Akashdeep Singh, Shanza Raza, and Ishika Ghosh\n",
        "\n",
        "Research Supervisor: Andre Oliveira\n",
        "Academic Supervisor: Dr. Laleh Behjat\n",
        "\n",
        "In this project, we propose to develop a deep learning-based OCR model that can accurately recognize printed and handwritten text from images. We will use publicly available OCR datasets and deep learning methodologies to train and evaluate the performance of our model."
      ],
      "metadata": {
        "id": "Zr0wv_mOAuv2"
      }
    },
    {
      "cell_type": "code",
      "source": [],
      "metadata": {
        "id": "veO_N_WEkgBu"
      },
      "execution_count": null,
      "outputs": []
    },
    {
      "cell_type": "code",
      "source": [
        "from numpy import mean\n",
        "from numpy import std \n",
        "from matplotlib import pyplot as plt "
      ],
      "metadata": {
        "id": "4PP68HUJiAUN"
      },
      "execution_count": 1,
      "outputs": []
    }
  ]
}