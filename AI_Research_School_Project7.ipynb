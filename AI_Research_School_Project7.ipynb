{
  "nbformat": 4,
  "nbformat_minor": 0,
  "metadata": {
    "colab": {
      "provenance": [],
      "include_colab_link": true
    },
    "kernelspec": {
      "name": "python3",
      "display_name": "Python 3"
    },
    "language_info": {
      "name": "python"
    }
  },
  "cells": [
    {
      "cell_type": "markdown",
      "metadata": {
        "id": "view-in-github",
        "colab_type": "text"
      },
      "source": [
        "<a href=\"https://colab.research.google.com/github/amnaadnan11/Deep-Learning-Based-OCR-Model/blob/tasks/AI_Research_School_Project7.ipynb\" target=\"_parent\"><img src=\"https://colab.research.google.com/assets/colab-badge.svg\" alt=\"Open In Colab\"/></a>"
      ]
    },
    {
      "cell_type": "markdown",
      "source": [
        "**AI Research School Project 7** \n",
        "\n",
        "Team Members: Farida Elogueil, Amna Adnan, Akashdeep Singh, Shanza Raza, and Ishika Ghosh\n",
        "\n",
        "Research Supervisor: Andre Oliveira\n",
        "\n",
        "This is the AI Research School Project 7 Google Colab. With this project we plan to develop a deep learning- based OCR model that can analyse and identify written/printed text."
      ],
      "metadata": {
        "id": "Zr0wv_mOAuv2"
      }
    },
    {
      "cell_type": "code",
      "source": [],
      "metadata": {
        "id": "4PP68HUJiAUN"
      },
      "execution_count": null,
      "outputs": []
    }
  ]
}